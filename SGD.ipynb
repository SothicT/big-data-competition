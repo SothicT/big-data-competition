{
 "cells": [
  {
   "cell_type": "code",
   "execution_count": 202,
   "metadata": {},
   "outputs": [],
   "source": [
    "import time\n",
    "import re\n",
    "import numpy as np\n",
    "import pandas as pd\n",
    "import warnings;warnings.filterwarnings('ignore')\n",
    "from sklearn.feature_extraction.text import TfidfVectorizer\n",
    "from sklearn.model_selection import GridSearchCV\n",
    "from sklearn.preprocessing import LabelEncoder"
   ]
  },
  {
   "cell_type": "code",
<<<<<<< HEAD
   "execution_count": 203,
   "metadata": {},
   "outputs": [],
   "source": [
    "#将20190425test数据的预测结果作为训练集\n",
    "df_result = pd.read_csv('SGD_new.csv',lineterminator='\\n')\n",
    "df_oldtest = pd.read_csv('20190425_test.csv',lineterminator='\\n')\n",
    "#在测试集数据中新增一列label，并将结果集Pred规范化插入New_train中\n",
    "col_name = df_oldtest.columns.tolist()\n",
    "col_name.insert(col_name.index('review')+1,'label')\n",
    "df_newtrain = df_oldtest.reindex(columns=col_name)\n",
    "df_newtrain['label'] = df_result['Pred\\r']"
   ]
  },
  {
   "cell_type": "code",
   "execution_count": 204,
   "metadata": {},
   "outputs": [
    {
     "name": "stdout",
     "output_type": "stream",
     "text": [
      "   ID    Pred\\r\n",
      "0   1  0.953665\n",
      "1   2  0.342294\n",
      "2   3  0.000000\n",
      "3   4  1.000000\n",
      "4   5  0.000000\n",
      "   ID                                             review     label\n",
      "0   1  Mulazmat ke bahali ke dua farma dein aur koe w...  0.953665\n",
      "1   2  Dua farma dain meri sehat k luay aur meray baa...  0.342294\n",
      "2   3              Tum khabees nahi kutti aurat ho 😂😂😂😈😈  0.000000\n",
      "3   4  Mery ly r Meri behn k ly dua kren k Allah mjhy...  1.000000\n",
      "4   5  Aur agar Imran peshawar mei banayega toh 100% ...  0.000000\n"
     ]
    }
   ],
   "source": [
    "print(df_result.head())\n",
    "print(df_newtrain.head())"
   ]
  },
  {
   "cell_type": "code",
   "execution_count": 206,
   "metadata": {},
   "outputs": [
    {
     "data": {
      "text/plain": [
       "ID          int64\n",
       "review     object\n",
       "label     float64\n",
       "dtype: object"
      ]
     },
     "execution_count": 206,
     "metadata": {},
     "output_type": "execute_result"
    }
   ],
   "source": [
    "df_newtrain.dtypes"
   ]
  },
  {
   "cell_type": "code",
   "execution_count": 207,
   "metadata": {},
   "outputs": [],
   "source": [
    "#使用map（）将预测概率转化为[0.1]\n",
    "for index,row in df_newtrain.iterrows():\n",
    "    if(row['label']>0.5):\n",
    "        df_newtrain['label'].loc[index] = 1\n",
    "    else:\n",
    "        df_newtrain['label'].loc[index] = 0\n",
    "df_newtrain['label'] = df_newtrain['label'].astype('int')"
   ]
  },
  {
   "cell_type": "code",
   "execution_count": 208,
   "metadata": {},
   "outputs": [
    {
     "data": {
      "text/html": [
       "<div>\n",
       "<style scoped>\n",
       "    .dataframe tbody tr th:only-of-type {\n",
       "        vertical-align: middle;\n",
       "    }\n",
       "\n",
       "    .dataframe tbody tr th {\n",
       "        vertical-align: top;\n",
       "    }\n",
       "\n",
       "    .dataframe thead th {\n",
       "        text-align: right;\n",
       "    }\n",
       "</style>\n",
       "<table border=\"1\" class=\"dataframe\">\n",
       "  <thead>\n",
       "    <tr style=\"text-align: right;\">\n",
       "      <th></th>\n",
       "      <th>ID</th>\n",
       "      <th>review</th>\n",
       "      <th>label</th>\n",
       "    </tr>\n",
       "  </thead>\n",
       "  <tbody>\n",
       "    <tr>\n",
       "      <th>0</th>\n",
       "      <td>1</td>\n",
       "      <td>Mulazmat ke bahali ke dua farma dein aur koe w...</td>\n",
       "      <td>1</td>\n",
       "    </tr>\n",
       "    <tr>\n",
       "      <th>1</th>\n",
       "      <td>2</td>\n",
       "      <td>Dua farma dain meri sehat k luay aur meray baa...</td>\n",
       "      <td>0</td>\n",
       "    </tr>\n",
       "    <tr>\n",
       "      <th>2</th>\n",
       "      <td>3</td>\n",
       "      <td>Tum khabees nahi kutti aurat ho 😂😂😂😈😈</td>\n",
       "      <td>0</td>\n",
       "    </tr>\n",
       "    <tr>\n",
       "      <th>3</th>\n",
       "      <td>4</td>\n",
       "      <td>Mery ly r Meri behn k ly dua kren k Allah mjhy...</td>\n",
       "      <td>1</td>\n",
       "    </tr>\n",
       "    <tr>\n",
       "      <th>4</th>\n",
       "      <td>5</td>\n",
       "      <td>Aur agar Imran peshawar mei banayega toh 100% ...</td>\n",
       "      <td>0</td>\n",
       "    </tr>\n",
       "  </tbody>\n",
       "</table>\n",
       "</div>"
      ],
      "text/plain": [
       "   ID                                             review  label\n",
       "0   1  Mulazmat ke bahali ke dua farma dein aur koe w...      1\n",
       "1   2  Dua farma dain meri sehat k luay aur meray baa...      0\n",
       "2   3              Tum khabees nahi kutti aurat ho 😂😂😂😈😈      0\n",
       "3   4  Mery ly r Meri behn k ly dua kren k Allah mjhy...      1\n",
       "4   5  Aur agar Imran peshawar mei banayega toh 100% ...      0"
      ]
     },
     "execution_count": 208,
     "metadata": {},
     "output_type": "execute_result"
    }
   ],
   "source": [
    "df_newtrain.head()"
   ]
  },
  {
   "cell_type": "code",
   "execution_count": 209,
   "metadata": {},
   "outputs": [],
   "source": [
    "#替换索引，方便数据的合并\n",
    "df_newtrain = df_newtrain.set_index('ID')"
   ]
  },
  {
   "cell_type": "code",
   "execution_count": 210,
   "metadata": {},
   "outputs": [
    {
     "data": {
      "text/html": [
       "<div>\n",
       "<style scoped>\n",
       "    .dataframe tbody tr th:only-of-type {\n",
       "        vertical-align: middle;\n",
       "    }\n",
       "\n",
       "    .dataframe tbody tr th {\n",
       "        vertical-align: top;\n",
       "    }\n",
       "\n",
       "    .dataframe thead th {\n",
       "        text-align: right;\n",
       "    }\n",
       "</style>\n",
       "<table border=\"1\" class=\"dataframe\">\n",
       "  <thead>\n",
       "    <tr style=\"text-align: right;\">\n",
       "      <th></th>\n",
       "      <th>review</th>\n",
       "      <th>label</th>\n",
       "    </tr>\n",
       "    <tr>\n",
       "      <th>ID</th>\n",
       "      <th></th>\n",
       "      <th></th>\n",
       "    </tr>\n",
       "  </thead>\n",
       "  <tbody>\n",
       "    <tr>\n",
       "      <th>1</th>\n",
       "      <td>Mulazmat ke bahali ke dua farma dein aur koe w...</td>\n",
       "      <td>1</td>\n",
       "    </tr>\n",
       "    <tr>\n",
       "      <th>2</th>\n",
       "      <td>Dua farma dain meri sehat k luay aur meray baa...</td>\n",
       "      <td>0</td>\n",
       "    </tr>\n",
       "    <tr>\n",
       "      <th>3</th>\n",
       "      <td>Tum khabees nahi kutti aurat ho 😂😂😂😈😈</td>\n",
       "      <td>0</td>\n",
       "    </tr>\n",
       "    <tr>\n",
       "      <th>4</th>\n",
       "      <td>Mery ly r Meri behn k ly dua kren k Allah mjhy...</td>\n",
       "      <td>1</td>\n",
       "    </tr>\n",
       "    <tr>\n",
       "      <th>5</th>\n",
       "      <td>Aur agar Imran peshawar mei banayega toh 100% ...</td>\n",
       "      <td>0</td>\n",
       "    </tr>\n",
       "  </tbody>\n",
       "</table>\n",
       "</div>"
      ],
      "text/plain": [
       "                                               review  label\n",
       "ID                                                          \n",
       "1   Mulazmat ke bahali ke dua farma dein aur koe w...      1\n",
       "2   Dua farma dain meri sehat k luay aur meray baa...      0\n",
       "3               Tum khabees nahi kutti aurat ho 😂😂😂😈😈      0\n",
       "4   Mery ly r Meri behn k ly dua kren k Allah mjhy...      1\n",
       "5   Aur agar Imran peshawar mei banayega toh 100% ...      0"
      ]
     },
     "execution_count": 210,
     "metadata": {},
     "output_type": "execute_result"
    }
   ],
   "source": [
    "df_newtrain.head()"
   ]
  },
  {
   "cell_type": "code",
   "execution_count": 211,
=======
   "execution_count": 3,
>>>>>>> 864de870d9eb0183d755bc73f9be784cdb7e9482
   "metadata": {},
   "outputs": [],
   "source": [
    "df_train = pd.read_csv('train.csv',lineterminator='\\n')\n",
<<<<<<< HEAD
    "df_test = pd.read_csv('20190506_test.csv',lineterminator='\\n')"
=======
    "df_test = pd.read_csv('20190425_test.csv',lineterminator='\\n')"
>>>>>>> 864de870d9eb0183d755bc73f9be784cdb7e9482
   ]
  },
  {
   "cell_type": "code",
<<<<<<< HEAD
   "execution_count": 212,
=======
   "execution_count": 4,
>>>>>>> 864de870d9eb0183d755bc73f9be784cdb7e9482
   "metadata": {},
   "outputs": [
    {
     "data": {
      "text/html": [
       "<div>\n",
       "<style scoped>\n",
       "    .dataframe tbody tr th:only-of-type {\n",
       "        vertical-align: middle;\n",
       "    }\n",
       "\n",
       "    .dataframe tbody tr th {\n",
       "        vertical-align: top;\n",
       "    }\n",
       "\n",
       "    .dataframe thead th {\n",
       "        text-align: right;\n",
       "    }\n",
       "</style>\n",
       "<table border=\"1\" class=\"dataframe\">\n",
       "  <thead>\n",
       "    <tr style=\"text-align: right;\">\n",
       "      <th></th>\n",
       "      <th>ID</th>\n",
       "      <th>review</th>\n",
       "      <th>label</th>\n",
       "    </tr>\n",
       "  </thead>\n",
       "  <tbody>\n",
       "    <tr>\n",
       "      <th>0</th>\n",
       "      <td>1</td>\n",
       "      <td>Jo bhi ap se tou behtar hoon</td>\n",
       "      <td>0</td>\n",
       "    </tr>\n",
       "    <tr>\n",
       "      <th>1</th>\n",
       "      <td>2</td>\n",
       "      <td>ya Allah meri sister Affia ki madad farma</td>\n",
       "      <td>1</td>\n",
       "    </tr>\n",
       "    <tr>\n",
       "      <th>2</th>\n",
       "      <td>3</td>\n",
       "      <td>Yeh khud chahta a is umar main shadi krna.  ha...</td>\n",
       "      <td>0</td>\n",
       "    </tr>\n",
       "    <tr>\n",
       "      <th>3</th>\n",
       "      <td>4</td>\n",
       "      <td>Tc ? Apky mun xe exe alfax achy nae lgty 😒💃</td>\n",
       "      <td>0</td>\n",
       "    </tr>\n",
       "    <tr>\n",
       "      <th>4</th>\n",
       "      <td>5</td>\n",
       "      <td>Good</td>\n",
       "      <td>1</td>\n",
       "    </tr>\n",
       "  </tbody>\n",
       "</table>\n",
       "</div>"
      ],
      "text/plain": [
       "   ID                                             review  label\n",
       "0   1                       Jo bhi ap se tou behtar hoon      0\n",
       "1   2          ya Allah meri sister Affia ki madad farma      1\n",
       "2   3  Yeh khud chahta a is umar main shadi krna.  ha...      0\n",
       "3   4        Tc ? Apky mun xe exe alfax achy nae lgty 😒💃      0\n",
       "4   5                                               Good      1"
      ]
     },
<<<<<<< HEAD
     "execution_count": 212,
=======
     "execution_count": 4,
>>>>>>> 864de870d9eb0183d755bc73f9be784cdb7e9482
     "metadata": {},
     "output_type": "execute_result"
    }
   ],
   "source": [
    "df_train['label'] = df_train['label'].map({'Negative':0,'Positive':1})\n",
    "df_train.head()"
   ]
  },
  {
   "cell_type": "code",
<<<<<<< HEAD
   "execution_count": 213,
   "metadata": {},
   "outputs": [],
   "source": [
    "df_train = df_train.set_index('ID')"
   ]
  },
  {
   "cell_type": "code",
   "execution_count": 214,
   "metadata": {},
   "outputs": [],
   "source": [
    "#合并新旧训练数据集\n",
    "df_train = pd.concat([df_train,df_newtrain],ignore_index=True)"
   ]
  },
  {
   "cell_type": "code",
   "execution_count": 215,
=======
   "execution_count": 5,
>>>>>>> 864de870d9eb0183d755bc73f9be784cdb7e9482
   "metadata": {},
   "outputs": [
    {
     "data": {
      "text/plain": [
       "review    object\n",
       "label      int64\n",
       "dtype: object"
      ]
     },
     "execution_count": 215,
     "metadata": {},
     "output_type": "execute_result"
    }
   ],
   "source": [
    "df_train.dtypes"
   ]
  },
  {
   "cell_type": "code",
   "execution_count": 216,
   "metadata": {},
   "outputs": [
    {
     "data": {
      "text/plain": [
       "1    4761\n",
       "0    4279\n",
       "Name: label, dtype: int64"
      ]
     },
<<<<<<< HEAD
     "execution_count": 216,
=======
     "execution_count": 5,
>>>>>>> 864de870d9eb0183d755bc73f9be784cdb7e9482
     "metadata": {},
     "output_type": "execute_result"
    }
   ],
   "source": [
    "df_train['label'].value_counts()"
   ]
  },
  {
   "cell_type": "code",
<<<<<<< HEAD
   "execution_count": 217,
=======
   "execution_count": 6,
>>>>>>> 864de870d9eb0183d755bc73f9be784cdb7e9482
   "metadata": {},
   "outputs": [
    {
     "data": {
      "text/plain": [
       "review    0\n",
       "label     0\n",
       "dtype: int64"
      ]
     },
<<<<<<< HEAD
     "execution_count": 217,
=======
     "execution_count": 6,
>>>>>>> 864de870d9eb0183d755bc73f9be784cdb7e9482
     "metadata": {},
     "output_type": "execute_result"
    }
   ],
   "source": [
    "df_train.isnull().sum()"
   ]
  },
  {
   "cell_type": "code",
<<<<<<< HEAD
   "execution_count": 218,
=======
   "execution_count": 7,
>>>>>>> 864de870d9eb0183d755bc73f9be784cdb7e9482
   "metadata": {},
   "outputs": [
    {
     "data": {
      "text/plain": [
       "ID        0\n",
       "review    0\n",
       "dtype: int64"
      ]
     },
<<<<<<< HEAD
     "execution_count": 218,
=======
     "execution_count": 7,
>>>>>>> 864de870d9eb0183d755bc73f9be784cdb7e9482
     "metadata": {},
     "output_type": "execute_result"
    }
   ],
   "source": [
    "df_test.isnull().sum()"
   ]
  },
  {
   "cell_type": "code",
<<<<<<< HEAD
   "execution_count": 219,
=======
   "execution_count": 8,
>>>>>>> 864de870d9eb0183d755bc73f9be784cdb7e9482
   "metadata": {},
   "outputs": [
    {
     "data": {
      "text/plain": [
       "array([['Jo bhi ap se tou behtar hoon', 0],\n",
       "       ['ya Allah meri sister Affia ki madad farma', 1],\n",
       "       ['Yeh khud chahta a is umar main shadi krna.  had ogi', 0],\n",
       "       ['Tc ? Apky mun xe exe alfax achy nae lgty 😒💃', 0]], dtype=object)"
      ]
     },
<<<<<<< HEAD
     "execution_count": 219,
=======
     "execution_count": 8,
>>>>>>> 864de870d9eb0183d755bc73f9be784cdb7e9482
     "metadata": {},
     "output_type": "execute_result"
    }
   ],
   "source": [
    "numpy_array = df_train.as_matrix()\n",
    "numpy_array_test = df_test.as_matrix()\n",
    "numpy_array[:4]"
   ]
  },
  {
   "cell_type": "code",
<<<<<<< HEAD
   "execution_count": 220,
=======
   "execution_count": 9,
>>>>>>> 864de870d9eb0183d755bc73f9be784cdb7e9482
   "metadata": {},
   "outputs": [
    {
     "data": {
      "text/plain": [
<<<<<<< HEAD
       "array([116, 'Mehngai 8 6 Se Kam Ho Kar 4 5 Per Aagai '], dtype=object)"
      ]
     },
     "execution_count": 220,
=======
       "array([116,\n",
       "       'Tahum inho ne khud ko sirf science fiction films tak he mehdood nahi rakha bal ke har mauzoo par filmy stories likhin  direction ki aur kuch films produce bhi ki'],\n",
       "      dtype=object)"
      ]
     },
     "execution_count": 9,
>>>>>>> 864de870d9eb0183d755bc73f9be784cdb7e9482
     "metadata": {},
     "output_type": "execute_result"
    }
   ],
   "source": [
    "numpy_array_test[115]"
   ]
  },
  {
   "cell_type": "code",
<<<<<<< HEAD
   "execution_count": 221,
=======
   "execution_count": 10,
>>>>>>> 864de870d9eb0183d755bc73f9be784cdb7e9482
   "metadata": {},
   "outputs": [],
   "source": [
    "#two commom ways to clean data\n",
    "#数据清洗\n",
    "#re.sub(pattern, repl, string, count)：使用repl替换String中符合pattern的内容\n",
    "#pattern:正则表达式规则\n",
    "#repl：需要替换的内容\n",
    "#string：被替换的字符串\n",
    "#count：替换的次数，默认为-1，即替换所有\n",
    "def cleaner(word):\n",
    "  word = re.sub(r'\\#\\.', '', word)\n",
    "  word = re.sub(r'\\n', '', word)\n",
    "  word = re.sub(r',', '', word)\n",
    "  word = re.sub(r'\\-', ' ', word)\n",
    "  word = re.sub(r'\\.', '', word)\n",
    "  word = re.sub(r'\\\\', ' ', word)\n",
    "  word = re.sub(r'\\\\x\\.+', '', word)\n",
    "  word = re.sub(r'\\d', '', word)\n",
    "  word = re.sub(r'^_.', '', word)\n",
    "  word = re.sub(r'_', ' ', word)\n",
    "  word = re.sub(r'^ ', '', word)\n",
    "  word = re.sub(r' $', '', word)\n",
    "  word = re.sub(r'\\?', '', word)\n",
    "  word = re.sub(r'é', '', word)\n",
    "  word = re.sub(r'§', '', word)\n",
    "  word = re.sub(r'¦', '', word)\n",
    "  word = re.sub(r'æ', '', word)\n",
    "  word = re.sub(r'\\d+', '', word)\n",
    "  word = re.sub('(.*?)\\d+(.*?)', '', word)\n",
    "  return word.lower()\n",
    "def hashing(word):\n",
    "  word = re.sub(r'ain$', r'ein', word)\n",
    "  word = re.sub(r'ai', r'ae', word)\n",
    "  word = re.sub(r'ay$', r'e', word)\n",
    "  word = re.sub(r'ey$', r'e', word)\n",
    "  word = re.sub(r'ie$', r'y', word)\n",
    "  word = re.sub(r'^es', r'is', word)\n",
    "  word = re.sub(r'a+', r'a', word)\n",
    "  word = re.sub(r'j+', r'j', word)\n",
    "  word = re.sub(r'd+', r'd', word)\n",
    "  word = re.sub(r'u', r'o', word)\n",
    "  word = re.sub(r'o+', r'o', word)\n",
    "  word = re.sub(r'ee+', r'i', word)\n",
    "  if not re.match(r'ar', word):\n",
    "    word = re.sub(r'ar', r'r', word)\n",
    "  word = re.sub(r'iy+', r'i', word)\n",
    "  word = re.sub(r'ih+', r'eh', word)\n",
    "  word = re.sub(r's+', r's', word)\n",
    "  if re.search(r'[rst]y', 'word') and word[-1] != 'y':\n",
    "    word = re.sub(r'y', r'i', word)\n",
    "  if re.search(r'[bcdefghijklmnopqrtuvwxyz]i', word):\n",
    "    word = re.sub(r'i$', r'y', word)\n",
    "  if re.search(r'[acefghijlmnoqrstuvwxyz]h', word):\n",
    "    word = re.sub(r'h', '', word)\n",
    "  word = re.sub(r'k', r'q', word)\n",
    "  return word\n",
    "\n",
    "def array_cleaner(array):\n",
    "  # X = array\n",
    "  X = []\n",
    "  for sentence in array:\n",
    "    clean_sentence = ''\n",
    "    #string.split(str=\"\", num=string.count(str))\n",
    "    #str -- 分隔符，默认为所有的空字符，包括空格、换行(\\n)、制表符(\\t)等。\n",
    "    #num -- 分割次数。默认为 -1, 即分隔所有。\n",
    "    words = sentence.split(' ')\n",
    "    for word in words:\n",
    "      clean_sentence = clean_sentence +' '+ cleaner(word)\n",
    "    X.append(clean_sentence)\n",
    "  return X"
   ]
  },
  {
   "cell_type": "code",
<<<<<<< HEAD
   "execution_count": 222,
=======
   "execution_count": 14,
>>>>>>> 864de870d9eb0183d755bc73f9be784cdb7e9482
   "metadata": {},
   "outputs": [
    {
     "data": {
      "text/plain": [
<<<<<<< HEAD
       "array(['Hum logo ny 70 salo ma itna loan ni lia jitna ap logo ny 5 sal ma lia hai Attaurahman sir .',\n",
       "       'Us dor ke mushahir ke sath us ke gehre taluqat the.',\n",
       "       ' Is ke ilawa ap ki nazmon, geeton aur ghazlon ke majmou mein naghma zaar, sozosaaz, tulkhaba sheeren, haft-e-peykar aur chiyonti nama shamil hai',\n",
       "       ..., 'that is fast time good news',\n",
       "       'Sindh Bhar Me CNG Stations Mangal Jummerat Or Haftay Ko Subah 8am Se Lekar 24 Ghanto K Lye Band Rahen Ge ',\n",
       "       'Ye kr kia rhy hain pehly ghazian ko mar dia ab Dr. Fara.'],\n",
       "      dtype=object)"
      ]
     },
     "execution_count": 222,
=======
       "array(['Mulazmat ke bahali ke dua farma dein aur koe wzeefa bhee bata dein',\n",
       "       'Dua farma dain meri sehat k luay aur meray baal girna band ho jaye 1 saal say be inteha gir rahay hain',\n",
       "       'Tum khabees nahi kutti aurat ho 😂😂😂😈😈', ...,\n",
       "       'Mullah Umar Ne Afghan Hukomat amp Taliban Muzakrat Ki Himayat Kar Di Afghanistan Se Qabzay K Khatmay K Liye Muzakrat Jaiz Hen Paigham ',\n",
       "       'Embroidery ki puri ek side pe dhagay nikle hue, fabric is average.',\n",
       "       'tu marti bht h'], dtype=object)"
      ]
     },
     "execution_count": 14,
>>>>>>> 864de870d9eb0183d755bc73f9be784cdb7e9482
     "metadata": {},
     "output_type": "execute_result"
    }
   ],
   "source": [
    "#X-test为review内的文字\n",
    "X_test = numpy_array_test[:,1]\n",
    "X_test"
   ]
  },
  {
   "cell_type": "code",
<<<<<<< HEAD
   "execution_count": 223,
=======
   "execution_count": 15,
>>>>>>> 864de870d9eb0183d755bc73f9be784cdb7e9482
   "metadata": {},
   "outputs": [],
   "source": [
    "#test if there are nan \n",
    "#对文本进行切割，并保存在words中\n",
    "counter = 1\n",
    "for sentence in X_test:\n",
    "    try:\n",
    "        words = sentence.split(' ')\n",
    "        counter+=1\n",
    "    except:\n",
    "        print(sentence)\n",
    "        print(counter)"
   ]
  },
  {
   "cell_type": "code",
<<<<<<< HEAD
   "execution_count": 224,
=======
   "execution_count": 17,
>>>>>>> 864de870d9eb0183d755bc73f9be784cdb7e9482
   "metadata": {},
   "outputs": [
    {
     "data": {
      "text/plain": [
       "[' jo bhi ap se tou behtar hoon',\n",
       " ' ya allah meri sister affia ki madad farma',\n",
       " ' yeh khud chahta a is umar main shadi krna  had ogi',\n",
       " ' tc  apky mun xe exe alfax achy nae lgty 😒💃',\n",
       " ' good']"
      ]
     },
<<<<<<< HEAD
     "execution_count": 224,
=======
     "execution_count": 17,
>>>>>>> 864de870d9eb0183d755bc73f9be784cdb7e9482
     "metadata": {},
     "output_type": "execute_result"
    }
   ],
   "source": [
<<<<<<< HEAD
    "X_train = numpy_array[:, 0]\n",
=======
    "#对训练集以及测试集上的数据进行清洗\n",
    "X_train = numpy_array[:, 1]\n",
>>>>>>> 864de870d9eb0183d755bc73f9be784cdb7e9482
    "# Clean X here\n",
    "X_train = array_cleaner(X_train)\n",
    "X_test = array_cleaner(X_test)\n",
    "y_train = numpy_array[:, 1]\n",
    "X_train[:5]"
   ]
  },
  {
   "cell_type": "code",
<<<<<<< HEAD
   "execution_count": 225,
=======
   "execution_count": 18,
>>>>>>> 864de870d9eb0183d755bc73f9be784cdb7e9482
   "metadata": {},
   "outputs": [
    {
     "name": "stdout",
     "output_type": "stream",
     "text": [
      "9040\n",
      "2712\n"
     ]
    }
   ],
   "source": [
    "print(len(X_train))\n",
    "print(len(X_test))"
   ]
  },
  {
   "cell_type": "code",
<<<<<<< HEAD
   "execution_count": 226,
=======
   "execution_count": 27,
>>>>>>> 864de870d9eb0183d755bc73f9be784cdb7e9482
   "metadata": {},
   "outputs": [
    {
     "data": {
      "text/plain": [
       "array([0, 1, 0, 0, 1], dtype=int8)"
      ]
     },
<<<<<<< HEAD
     "execution_count": 226,
=======
     "execution_count": 27,
>>>>>>> 864de870d9eb0183d755bc73f9be784cdb7e9482
     "metadata": {},
     "output_type": "execute_result"
    }
   ],
   "source": [
    "#y_train为训练的标签\n",
    "y_train = np.array(y_train)\n",
    "y_train = y_train.astype('int8')\n",
    "y_train[0:5]"
   ]
  },
  {
   "cell_type": "code",
<<<<<<< HEAD
   "execution_count": 227,
=======
   "execution_count": 45,
>>>>>>> 864de870d9eb0183d755bc73f9be784cdb7e9482
   "metadata": {},
   "outputs": [],
   "source": [
    "#TF-IDF(Term Frequency - Inverse Document Frequency的缩写，即“词频-逆文本频率”。它由两部分组成，TF和IDF。)\n",
    "#TF:表示一个词在在文本中出现的频率\n",
    "#IDF：表示一个词的重要程度（出现的越频繁其重要程度越低）\n",
    "#TfidfVecotrizer:使TF-IDF向量化表示\n",
    "ngram = 3\n",
    "vectorizer = TfidfVectorizer(sublinear_tf=True,ngram_range=(1, ngram), max_df=0.5)"
   ]
  },
  {
   "cell_type": "code",
<<<<<<< HEAD
   "execution_count": 228,
=======
   "execution_count": 46,
>>>>>>> 864de870d9eb0183d755bc73f9be784cdb7e9482
   "metadata": {},
   "outputs": [],
   "source": [
    "#结合训练集以及测试集对review进行TFIDF向量化处理\n",
    "X_all = X_train + X_test # Combine both to fit the TFIDF vectorization.\n",
    "lentrain = len(X_train)\n",
    "vectorizer.fit(X_all) # This is the slow part!\n",
    "X_all = vectorizer.transform(X_all)"
   ]
  },
  {
   "cell_type": "code",
<<<<<<< HEAD
   "execution_count": 229,
   "metadata": {},
   "outputs": [
    {
     "data": {
      "text/plain": [
       "['aa', 'aa agaya', 'aa aur', 'aa bhi', 'aa chuka']"
      ]
     },
     "execution_count": 229,
     "metadata": {},
     "output_type": "execute_result"
    }
   ],
   "source": [
    "vectorizer.get_feature_names()[0:5]"
=======
   "execution_count": 47,
   "metadata": {},
   "outputs": [
    {
     "name": "stdout",
     "output_type": "stream",
     "text": [
      "224260\n",
      "['aa', 'aa agaya', 'aa aur', 'aa aur ik', 'aa bhi']\n"
     ]
    }
   ],
   "source": [
    "print(len(vectorizer.get_feature_names()))\n",
    "print(vectorizer.get_feature_names()[0:5])"
>>>>>>> 864de870d9eb0183d755bc73f9be784cdb7e9482
   ]
  },
  {
   "cell_type": "code",
<<<<<<< HEAD
   "execution_count": 230,
=======
   "execution_count": 48,
>>>>>>> 864de870d9eb0183d755bc73f9be784cdb7e9482
   "metadata": {},
   "outputs": [
    {
     "data": {
      "text/plain": [
<<<<<<< HEAD
       "(11752, 113355)"
      ]
     },
     "execution_count": 230,
=======
       "(9040, 224260)"
      ]
     },
     "execution_count": 48,
>>>>>>> 864de870d9eb0183d755bc73f9be784cdb7e9482
     "metadata": {},
     "output_type": "execute_result"
    }
   ],
   "source": [
    "X_all.shape"
   ]
  },
  {
   "cell_type": "code",
<<<<<<< HEAD
   "execution_count": 231,
=======
   "execution_count": 49,
>>>>>>> 864de870d9eb0183d755bc73f9be784cdb7e9482
   "metadata": {},
   "outputs": [
    {
     "data": {
      "text/plain": [
<<<<<<< HEAD
       "(9040, 113355)"
      ]
     },
     "execution_count": 231,
=======
       "(6328, 224260)"
      ]
     },
     "execution_count": 49,
>>>>>>> 864de870d9eb0183d755bc73f9be784cdb7e9482
     "metadata": {},
     "output_type": "execute_result"
    }
   ],
   "source": [
    "X_train_chuli = X_all[:lentrain] # Separate back into training and test sets. \n",
    "X_test_chuli = X_all[lentrain:]\n",
    "X_train_chuli.shape"
   ]
  },
  {
   "cell_type": "code",
<<<<<<< HEAD
   "execution_count": 232,
=======
   "execution_count": 50,
>>>>>>> 864de870d9eb0183d755bc73f9be784cdb7e9482
   "metadata": {},
   "outputs": [],
   "source": [
    "from sklearn.model_selection import KFold,StratifiedKFold\n",
    "from sklearn.model_selection import train_test_split\n",
    "from sklearn import metrics\n",
    "from sklearn.linear_model import SGDClassifier as SGD"
   ]
  },
  {
   "cell_type": "code",
<<<<<<< HEAD
   "execution_count": 233,
=======
   "execution_count": 57,
>>>>>>> 864de870d9eb0183d755bc73f9be784cdb7e9482
   "metadata": {},
   "outputs": [],
   "source": [
    "#使用k-折交叉法对数据集进行划分，划分为10折\n",
    "folds = StratifiedKFold(n_splits=15, shuffle=False, random_state=2019)\n",
    "oof = np.zeros(X_train_chuli.shape[0])\n",
    "predictions = np.zeros(X_test_chuli.shape[0])"
   ]
  },
  {
   "cell_type": "code",
<<<<<<< HEAD
   "execution_count": 235,
=======
   "execution_count": 70,
>>>>>>> 864de870d9eb0183d755bc73f9be784cdb7e9482
   "metadata": {},
   "outputs": [
    {
     "name": "stdout",
     "output_type": "stream",
     "text": [
      "Fold :1\n",
<<<<<<< HEAD
      "auc score: 0.88667 \n",
      "Fold :2\n",
      "auc score: 0.87465 \n",
      "Fold :3\n",
      "auc score: 0.87596 \n",
      "Fold :4\n",
      "auc score: 0.87154 \n",
      "Fold :5\n",
      "auc score: 0.88141 \n",
      "Fold :6\n",
      "auc score: 0.86788 \n",
      "Fold :7\n",
      "auc score: 0.88489 \n",
      "Fold :8\n",
      "auc score: 0.97394 \n",
      "Fold :9\n",
      "auc score: 0.98079 \n",
      "Fold :10\n",
      "auc score: 0.97768 \n"
=======
      "auc score: 0.88202 \n",
      "Fold :2\n",
      "auc score: 0.84136 \n",
      "Fold :3\n",
      "auc score: 0.83033 \n",
      "Fold :4\n",
      "auc score: 0.85365 \n",
      "Fold :5\n",
      "auc score: 0.84306 \n",
      "Fold :6\n",
      "auc score: 0.86251 \n",
      "Fold :7\n",
      "auc score: 0.83992 \n",
      "Fold :8\n",
      "auc score: 0.85055 \n",
      "Fold :9\n",
      "auc score: 0.81798 \n",
      "Fold :10\n",
      "auc score: 0.86406 \n",
      "Fold :11\n",
      "auc score: 0.86064 \n",
      "Fold :12\n",
      "auc score: 0.83103 \n",
      "Fold :13\n",
      "auc score: 0.84982 \n",
      "Fold :14\n",
      "auc score: 0.86519 \n",
      "Fold :15\n",
      "auc score: 0.87067 \n"
>>>>>>> 864de870d9eb0183d755bc73f9be784cdb7e9482
     ]
    }
   ],
   "source": [
    "for fold_, (trn_idx, val_idx) in enumerate(folds.split(X_train_chuli, y_train)):\n",
    "    print(\"Fold :{}\".format(fold_ + 1))\n",
    "    trn_data = X_train_chuli[trn_idx]\n",
    "    trn_label= y_train[trn_idx]\n",
    "    val_data = X_train_chuli[val_idx]\n",
    "    val_label= y_train[val_idx]\n",
    "    model_SGD = SGD(alpha=0.00001,random_state = 2, shuffle = True, loss = 'log')                      \n",
    "    model_SGD.fit(trn_data, trn_label) # Fit the model.\n",
    "    print(\"auc score: {:<8.5f}\".format(metrics.roc_auc_score(val_label, model_SGD.predict_proba(val_data)[:,1])))\n",
    "    predictions += model_SGD.predict_proba(X_test_chuli)[:,1] / folds.n_splits"
   ]
  },
  {
   "cell_type": "code",
<<<<<<< HEAD
   "execution_count": 236,
=======
   "execution_count": 71,
>>>>>>> 864de870d9eb0183d755bc73f9be784cdb7e9482
   "metadata": {},
   "outputs": [
    {
     "name": "stdout",
     "output_type": "stream",
     "text": [
      "2712\n"
     ]
    },
    {
     "data": {
      "text/plain": [
<<<<<<< HEAD
       "array([0.08996626, 1.93249504, 1.94492461, 1.86851597])"
      ]
     },
     "execution_count": 236,
=======
       "array([5.35402604, 3.22927627, 0.32665865, 5.61440582, 2.21046638])"
      ]
     },
     "execution_count": 71,
>>>>>>> 864de870d9eb0183d755bc73f9be784cdb7e9482
     "metadata": {},
     "output_type": "execute_result"
    }
   ],
   "source": [
    "print(len(predictions))\n",
    "predictions[0:5]"
   ]
  },
  {
   "cell_type": "code",
<<<<<<< HEAD
   "execution_count": 237,
=======
   "execution_count": 69,
>>>>>>> 864de870d9eb0183d755bc73f9be784cdb7e9482
   "metadata": {},
   "outputs": [],
   "source": [
    "SGD_output = pd.DataFrame({\"ID\":df_test[\"ID\"], \"Pred\":predictions})\n",
    "SGD_output.to_csv('SGD_20190506.csv', index = False)"
   ]
  },
  {
   "cell_type": "code",
   "execution_count": null,
   "metadata": {},
   "outputs": [],
   "source": []
  }
 ],
 "metadata": {
  "kernelspec": {
   "display_name": "Python 3",
   "language": "python",
   "name": "python3"
  },
  "language_info": {
   "codemirror_mode": {
    "name": "ipython",
    "version": 3
   },
   "file_extension": ".py",
   "mimetype": "text/x-python",
   "name": "python",
   "nbconvert_exporter": "python",
   "pygments_lexer": "ipython3",
<<<<<<< HEAD
   "version": "3.7.0"
=======
   "version": "3.7.3"
>>>>>>> 864de870d9eb0183d755bc73f9be784cdb7e9482
  }
 },
 "nbformat": 4,
 "nbformat_minor": 2
}
