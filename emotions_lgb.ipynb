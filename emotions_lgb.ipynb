{
 "cells": [
  {
   "cell_type": "code",
   "execution_count": 1,
   "metadata": {},
   "outputs": [],
   "source": [
    "import time\n",
    "import re\n",
    "import numpy as np\n",
    "import pandas as pd\n",
    "import warnings;warnings.filterwarnings('ignore')\n",
    "from sklearn.feature_extraction.text import TfidfVectorizer\n",
    "from sklearn.svm import SVC\n",
    "from sklearn.naive_bayes import GaussianNB,MultinomialNB\n",
    "from sklearn.model_selection import GridSearchCV\n",
    "from sklearn.preprocessing import LabelEncoder"
   ]
  },
  {
   "cell_type": "code",
   "execution_count": 5,
   "metadata": {},
   "outputs": [
    {
     "data": {
      "text/plain": [
       "<bound method DataFrame.info of         ID                                             review     label\n",
       "0        1                       Jo bhi ap se tou behtar hoon  Negative\n",
       "1        2          ya Allah meri sister Affia ki madad farma  Positive\n",
       "2        3  Yeh khud chahta a is umar main shadi krna.  ha...  Negative\n",
       "3        4        Tc ? Apky mun xe exe alfax achy nae lgty 😒💃  Negative\n",
       "4        5                                               Good  Positive\n",
       "5        6  American president John f Kennedy aur in ke bh...  Negative\n",
       "6        7   Commission aur kickback ka dor Dora raha, quo...  Negative\n",
       "7        8  Allah pak nazer e bd sy bechye or humesha boha...  Positive\n",
       "8        9  Amoman log samajhte hain ke jhok siyal hi Abid...  Positive\n",
       "9       10  Akki KhanYani k tum ....... v good Wesy tum sh...  Negative\n",
       "10      11  Jail Road Pr Firing Se 1 Shaks Janbahaq Rpt M ...  Negative\n",
       "11      12  hud hagai stupid actor hy.....acting ati he na...  Negative\n",
       "12      13                            Haha thank you so much   Positive\n",
       "13      14  Pakistani cricket ki tareekh ka behtreen batsm...  Positive\n",
       "14      15  Nawaz Sharif ko Pakro Harimi Police walo Tum l...  Negative\n",
       "15      16               Kash MERI MAAN ZINDA HOTI...........  Positive\n",
       "16      17  5 Billion Dollor se zaid akhrajat ka takhmina ...  Negative\n",
       "17      18  Kisi larki kay sat selfie lana tum hay maut ki...  Negative\n",
       "18      19  NAMAZ E ZUHAR Hamari Aamdani Mein Izafa Karti ...  Positive\n",
       "19      20  Wasy ma sporting lahore ki team ko kr raha tha...  Negative\n",
       "20      21                           Duoan main yad rakhay ga  Positive\n",
       "21      22  Hum sab ko milkar Pakistan aur islami aqdaar k...  Positive\n",
       "22      23  Dar asal in k parents bhi nachney ganey waley ...  Negative\n",
       "23      24      Mujhay tou dusri dafa sacha pyaar ho gaya hai  Positive\n",
       "24      25                                     aur mein nai 😂  Negative\n",
       "25      26                    Hazrat Sahab Dua ke darkast ha.  Positive\n",
       "26      27  In ke jaise shohar bano, in ke jaise sabiq sho...  Positive\n",
       "27      28   Hamare intellectual ise aik sub standard mawa...  Positive\n",
       "28      29               Tab aik sadabahar geet ne janam liya  Positive\n",
       "29      30  Aye Logo, Apni Aurto KoSingarwala Libas Pahenk...  Negative\n",
       "...    ...                                                ...       ...\n",
       "6298  6299         Nahi apk jese itne ooonche shoq kahan mere  Negative\n",
       "6299  6300  Last night in Dono Marches ko mila kar support...  Positive\n",
       "6300  6301  Ab to sajna sawrna chor do ab to ham ko. Milna...  Negative\n",
       "6301  6302  Humhain kiya apna mulk dekho phr unka dekhna h...  Negative\n",
       "6302  6303                                         anmol baat  Positive\n",
       "6303  6304                                         Is waqat M  Positive\n",
       "6304  6305                     Ap ki app working ni kr rhi ha  Negative\n",
       "6305  6306  ICC Ka Salman Butt Or Asif Pr 1st Sep Se Paban...  Positive\n",
       "6306  6307                    Nice assalam o alikom kce he ap  Positive\n",
       "6307  6308          Chor chor hota ha her jega dandi.Marta ha  Negative\n",
       "6308  6309                        Hahahaha  meesni ifywim 😂😂😂  Negative\n",
       "6309  6310  likha coat hai bhaj sweeter di hai wo b gandi ...  Negative\n",
       "6310  6311  Drama acha hai Funny bhi hai Billo Aur Shano k...  Positive\n",
       "6311  6312   General Pervaiz Musharraf ki sarbarahi mein u...  Negative\n",
       "6312  6313  Allah pak maray murshad ke our maray murshed k...  Positive\n",
       "6313  6314               Qeemat k lihaz sy behtreen hain yaar  Positive\n",
       "6314  6315  Tum se kam hu acha beghairto aur kya huwa uska...  Negative\n",
       "6315  6316                               Allah Ap salamt raky  Positive\n",
       "6316  6317                           wasy hi acha lag raha ha  Positive\n",
       "6317  6318  Salam Alekum, bhaiyon! Kya haal hai? Kaise cha...  Positive\n",
       "6318  6319   Tahum bad mein barhe paimane par tabahi phela...  Negative\n",
       "6319  6320       Teer Pehla Kis Ny Mara Ye Kahani Phir Sahi    Negative\n",
       "6320  6321                                Pagal ho gaya ha ye  Negative\n",
       "6321  6322  Landhi Mn Bijli Bandish Se Parayshan Awam Ka M...  Negative\n",
       "6322  6323   Koi nojawanon mein, koi khawaten mein aur kis...  Positive\n",
       "6323  6324                                       Hahaha xctly  Negative\n",
       "6324  6325  ATC Adalat Ne Liaqutabad Se Giriftar MQM Ka Ka...  Positive\n",
       "6325  6326                            Korangi Me Shani Qatal   Negative\n",
       "6326  6327  Ma na suna ha lemon sa haddiyan kamzor hoti hn...  Negative\n",
       "6327  6328  Ball poar jadooi giraft se inhe rafter aur swi...  Positive\n",
       "\n",
       "[6328 rows x 3 columns]>"
      ]
     },
     "execution_count": 5,
     "metadata": {},
     "output_type": "execute_result"
    }
   ],
   "source": [
    "#导入数据集，查看数据集内容\n",
    "train = pd.read_csv('train.csv', lineterminator='\\n')\n",
    "test = pd.read_csv('20190425_test.csv', lineterminator='\\n')\n",
    "train.info"
   ]
  },
  {
   "cell_type": "code",
   "execution_count": 6,
   "metadata": {},
   "outputs": [
    {
     "data": {
      "text/plain": [
       "<bound method DataFrame.info of         ID                                             review\n",
       "0        1  Mulazmat ke bahali ke dua farma dein aur koe w...\n",
       "1        2  Dua farma dain meri sehat k luay aur meray baa...\n",
       "2        3              Tum khabees nahi kutti aurat ho 😂😂😂😈😈\n",
       "3        4  Mery ly r Meri behn k ly dua kren k Allah mjhy...\n",
       "4        5  Aur agar Imran peshawar mei banayega toh 100% ...\n",
       "5        6                           Farishte Likh Rahe Hain \n",
       "6        7               Aisi boring eid tau sachii meri hoti\n",
       "7        8   Is ke ilawa in ke mureedon ko, jo Hur kehlate...\n",
       "8        9  jub tak sood our haram khaty rahy go tab tak k...\n",
       "9       10  70 ki dehaai ka yeh wo zamana tha jab Attaulla...\n",
       "10      11      bs allah behtr janta ha kaya sach or kya jhot\n",
       "11      12  1st Sep Se Petrol Rs 6 15 Diesel 5 30 Matti Ka...\n",
       "12      13  iss budhii sy bnda puchay kitnii jamatain pass...\n",
       "13      14                         Tharki kb bola me ttmko :o\n",
       "14      15  Tahum Doctors ki mehnat aur Jerry Lewis ki him...\n",
       "15      16                            Ly ly...pr ye mzaq nai \n",
       "16      17  Chitral Me Selaab Se Ab Tak 29 Afraad Jan Baha...\n",
       "17      18       Na yd krwa yr bht he koi zalimana wqt tha wo\n",
       "18      19  Inho ne kaha ke hamare mulk mien private produ...\n",
       "19      20                                    Muft muft sekha\n",
       "20      21   Wasay bhi mujhy apki friend banay la shouk nhi!!\n",
       "21      22  Street children ko sarkon par nahi rehna chahiye.\n",
       "22      23                      is kootay ka show band karwao\n",
       "23      24                 dainsh ne tou midaan hee maar liya\n",
       "24      25                        Reply bechara dr gya aap se\n",
       "25      26  Pehly hm aen tmhary abu ne kaha w0h bzr gai h0...\n",
       "26      27   in dauran app nay aqwam e muttahida jese bain...\n",
       "27      28                                           Lanti ho\n",
       "28      29  Bradman ke des Australia ke mayanaaz batsman, ...\n",
       "29      30  Wo aise poets ka intekhab kart eke nazreen jho...\n",
       "...    ...                                                ...\n",
       "2682  2683  Is press ke qayam ki badolat anjuman ke leye a...\n",
       "2683  2684  Aap ne socha k ja k kyoon na us bachay se baki...\n",
       "2684  2685                             Lanat ho is kameeny py\n",
       "2685  2686  Andaza to tha hi aj dekh b lia Patwario ko ped...\n",
       "2686  2687                                   Sexualized ker K\n",
       "2687  2688                                  Wah la jawab nice\n",
       "2688  2689   Ye banker sirf banker hi nahi balke ammunitio...\n",
       "2689  2690               Beta meray perhay ------ lagtay hayn\n",
       "2690  2691  30 April 1971 ko Akram Shaheed ki Kaman mein “...\n",
       "2691  2692  Wazir e Mumlikat Saira Afzal K Walid Ko Shikas...\n",
       "2692  2693  Humare mulk ki khawateen hudod o qawanin ke ma...\n",
       "2693  2694  Ge khoon leeg aur Pti walay ase ochee harktain...\n",
       "2694  2695                                 Dil pe mat lena :p\n",
       "2695  2696  :D aAp ka I think abi ksi sahi walay layl poor...\n",
       "2696  2697  Jani, I'm brown. I'm light brown sardiyoun mei...\n",
       "2697  2698  or kar bhi kiya saktin hai farigh Aurtein😂😂😂\\n...\n",
       "2698  2699  Ye din khawateen ke hoqoq ki jid o jehad ki ya...\n",
       "2699  2700  Allah pak har tarha ki nazar se bachay or Alla...\n",
       "2700  2701  Depp ke walid ki muaashi hesiyat ziyada musteh...\n",
       "2701  2702  Khopri hai apky pax ? 😊 uzmy bhuxa bhara hga d...\n",
       "2702  2703  Is moqe par wahan mojud tamashaiyon ne team se...\n",
       "2703  2704  Kia soch rahy hain ap bikul apny baba ki tarha...\n",
       "2704  2705    Alfaz had drja ghlt hyn....zra ghor frmayen....\n",
       "2705  2706                          Ap ka bhe jawab ghalat he\n",
       "2706  2707  mere khayal me sahir lodhi py nai ase shows py...\n",
       "2707  2708  Tum he bahut ho jo frnd ka bhi kaam karta hai ...\n",
       "2708  2709                   Great man sacha PakistaniBig man\n",
       "2709  2710  Mullah Umar Ne Afghan Hukomat amp Taliban Muza...\n",
       "2710  2711  Embroidery ki puri ek side pe dhagay nikle hue...\n",
       "2711  2712                                     tu marti bht h\n",
       "\n",
       "[2712 rows x 2 columns]>"
      ]
     },
     "execution_count": 6,
     "metadata": {},
     "output_type": "execute_result"
    }
   ],
   "source": [
    "test.info"
   ]
  },
  {
   "cell_type": "code",
   "execution_count": 7,
   "metadata": {},
   "outputs": [
    {
     "data": {
      "text/html": [
       "<div>\n",
       "<style scoped>\n",
       "    .dataframe tbody tr th:only-of-type {\n",
       "        vertical-align: middle;\n",
       "    }\n",
       "\n",
       "    .dataframe tbody tr th {\n",
       "        vertical-align: top;\n",
       "    }\n",
       "\n",
       "    .dataframe thead th {\n",
       "        text-align: right;\n",
       "    }\n",
       "</style>\n",
       "<table border=\"1\" class=\"dataframe\">\n",
       "  <thead>\n",
       "    <tr style=\"text-align: right;\">\n",
       "      <th></th>\n",
       "      <th>ID</th>\n",
       "      <th>review</th>\n",
       "    </tr>\n",
       "  </thead>\n",
       "  <tbody>\n",
       "    <tr>\n",
       "      <th>2707</th>\n",
       "      <td>2708</td>\n",
       "      <td>Tum he bahut ho jo frnd ka bhi kaam karta hai ...</td>\n",
       "    </tr>\n",
       "    <tr>\n",
       "      <th>2708</th>\n",
       "      <td>2709</td>\n",
       "      <td>Great man sacha PakistaniBig man</td>\n",
       "    </tr>\n",
       "    <tr>\n",
       "      <th>2709</th>\n",
       "      <td>2710</td>\n",
       "      <td>Mullah Umar Ne Afghan Hukomat amp Taliban Muza...</td>\n",
       "    </tr>\n",
       "    <tr>\n",
       "      <th>2710</th>\n",
       "      <td>2711</td>\n",
       "      <td>Embroidery ki puri ek side pe dhagay nikle hue...</td>\n",
       "    </tr>\n",
       "    <tr>\n",
       "      <th>2711</th>\n",
       "      <td>2712</td>\n",
       "      <td>tu marti bht h</td>\n",
       "    </tr>\n",
       "  </tbody>\n",
       "</table>\n",
       "</div>"
      ],
      "text/plain": [
       "        ID                                             review\n",
       "2707  2708  Tum he bahut ho jo frnd ka bhi kaam karta hai ...\n",
       "2708  2709                   Great man sacha PakistaniBig man\n",
       "2709  2710  Mullah Umar Ne Afghan Hukomat amp Taliban Muza...\n",
       "2710  2711  Embroidery ki puri ek side pe dhagay nikle hue...\n",
       "2711  2712                                     tu marti bht h"
      ]
     },
     "execution_count": 7,
     "metadata": {},
     "output_type": "execute_result"
    }
   ],
   "source": [
    "test.tail()"
   ]
  },
  {
   "cell_type": "code",
   "execution_count": 8,
   "metadata": {},
   "outputs": [
    {
     "data": {
      "text/html": [
       "<div>\n",
       "<style scoped>\n",
       "    .dataframe tbody tr th:only-of-type {\n",
       "        vertical-align: middle;\n",
       "    }\n",
       "\n",
       "    .dataframe tbody tr th {\n",
       "        vertical-align: top;\n",
       "    }\n",
       "\n",
       "    .dataframe thead th {\n",
       "        text-align: right;\n",
       "    }\n",
       "</style>\n",
       "<table border=\"1\" class=\"dataframe\">\n",
       "  <thead>\n",
       "    <tr style=\"text-align: right;\">\n",
       "      <th></th>\n",
       "      <th>ID</th>\n",
       "      <th>review</th>\n",
       "      <th>label</th>\n",
       "    </tr>\n",
       "  </thead>\n",
       "  <tbody>\n",
       "    <tr>\n",
       "      <th>6323</th>\n",
       "      <td>6324</td>\n",
       "      <td>Hahaha xctly</td>\n",
       "      <td>Negative</td>\n",
       "    </tr>\n",
       "    <tr>\n",
       "      <th>6324</th>\n",
       "      <td>6325</td>\n",
       "      <td>ATC Adalat Ne Liaqutabad Se Giriftar MQM Ka Ka...</td>\n",
       "      <td>Positive</td>\n",
       "    </tr>\n",
       "    <tr>\n",
       "      <th>6325</th>\n",
       "      <td>6326</td>\n",
       "      <td>Korangi Me Shani Qatal</td>\n",
       "      <td>Negative</td>\n",
       "    </tr>\n",
       "    <tr>\n",
       "      <th>6326</th>\n",
       "      <td>6327</td>\n",
       "      <td>Ma na suna ha lemon sa haddiyan kamzor hoti hn...</td>\n",
       "      <td>Negative</td>\n",
       "    </tr>\n",
       "    <tr>\n",
       "      <th>6327</th>\n",
       "      <td>6328</td>\n",
       "      <td>Ball poar jadooi giraft se inhe rafter aur swi...</td>\n",
       "      <td>Positive</td>\n",
       "    </tr>\n",
       "  </tbody>\n",
       "</table>\n",
       "</div>"
      ],
      "text/plain": [
       "        ID                                             review     label\n",
       "6323  6324                                       Hahaha xctly  Negative\n",
       "6324  6325  ATC Adalat Ne Liaqutabad Se Giriftar MQM Ka Ka...  Positive\n",
       "6325  6326                            Korangi Me Shani Qatal   Negative\n",
       "6326  6327  Ma na suna ha lemon sa haddiyan kamzor hoti hn...  Negative\n",
       "6327  6328  Ball poar jadooi giraft se inhe rafter aur swi...  Positive"
      ]
     },
     "execution_count": 8,
     "metadata": {},
     "output_type": "execute_result"
    }
   ],
   "source": [
    "train.tail()"
   ]
  },
  {
   "cell_type": "code",
   "execution_count": 11,
   "metadata": {},
   "outputs": [
    {
     "data": {
      "text/plain": [
       "ID        0\n",
       "review    0\n",
       "label     0\n",
       "dtype: int64"
      ]
     },
     "execution_count": 11,
     "metadata": {},
     "output_type": "execute_result"
    }
   ],
   "source": [
    "train.isnull().sum()"
   ]
  },
  {
   "cell_type": "code",
   "execution_count": 12,
   "metadata": {},
   "outputs": [
    {
     "data": {
      "text/plain": [
       "ID        0\n",
       "review    0\n",
       "dtype: int64"
      ]
     },
     "execution_count": 12,
     "metadata": {},
     "output_type": "execute_result"
    }
   ],
   "source": [
    "test.isnull().sum()"
   ]
  },
  {
   "cell_type": "code",
   "execution_count": 14,
   "metadata": {},
   "outputs": [
    {
     "data": {
      "text/plain": [
       "array([[1, 'Jo bhi ap se tou behtar hoon', 'Negative'],\n",
       "       [2, 'ya Allah meri sister Affia ki madad farma', 'Positive'],\n",
       "       [3, 'Yeh khud chahta a is umar main shadi krna.  had ogi',\n",
       "        'Negative'],\n",
       "       [4, 'Tc ? Apky mun xe exe alfax achy nae lgty 😒💃', 'Negative'],\n",
       "       [5, 'Good', 'Positive']], dtype=object)"
      ]
     },
     "execution_count": 14,
     "metadata": {},
     "output_type": "execute_result"
    }
   ],
   "source": [
    "#处理数据集\n",
    "np_train = train.as_matrix()\n",
    "np_test = test.as_matrix()\n",
    "np_train[:5]"
   ]
  },
  {
   "cell_type": "code",
   "execution_count": 15,
   "metadata": {},
   "outputs": [
    {
     "data": {
      "text/plain": [
       "array([101, 'Hum bicharian'], dtype=object)"
      ]
     },
     "execution_count": 15,
     "metadata": {},
     "output_type": "execute_result"
    }
   ],
   "source": [
    "np_test[100]"
   ]
  },
  {
   "cell_type": "code",
   "execution_count": null,
   "metadata": {},
   "outputs": [],
   "source": [
    "#数据清理\n"
   ]
  }
 ],
 "metadata": {
  "kernelspec": {
   "display_name": "Python 3",
   "language": "python",
   "name": "python3"
  },
  "language_info": {
   "codemirror_mode": {
    "name": "ipython",
    "version": 3
   },
   "file_extension": ".py",
   "mimetype": "text/x-python",
   "name": "python",
   "nbconvert_exporter": "python",
   "pygments_lexer": "ipython3",
   "version": "3.6.5"
  }
 },
 "nbformat": 4,
 "nbformat_minor": 2
}
